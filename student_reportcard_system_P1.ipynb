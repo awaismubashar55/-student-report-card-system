{
  "cells": [
    {
      "cell_type": "markdown",
      "metadata": {
        "id": "CWIoO8ffE1-v"
      },
      "source": [
        "\"\"\"\n",
        "=========================================================\n",
        "        STUDENT REPORT CARD SYSTEM - PYTHON PROJECT\n",
        "=========================================================\n",
        "\n",
        "📌 Project Description:\n",
        "This project is a simple Student Report Card System\n",
        "developed in Python. It demonstrates all the essential\n",
        "concepts of Python programming for beginners including:\n",
        "- Variables\n",
        "- User Input and Output\n",
        "- Loops (while & for)\n",
        "- Lists\n",
        "- Conditional Statements (if-elif-else)\n",
        "- Functions\n",
        "- String Formatting\n",
        "\n",
        "The system allows:\n",
        "✅ Taking student details (Name, Roll No).\n",
        "✅ Adding multiple subjects and their marks.\n",
        "✅ Calculating total marks and average.\n",
        "✅ Assigning a grade automatically based on average.\n",
        "✅ Displaying a neat report card format.\n",
        "\n",
        "---------------------------------------------------------\n",
        "👨‍💻 Author: Awais Mubashar\n",
        "📅 Created: September 2025\n",
        "🏷️ Version: 1.0\n",
        "📍 Suitable for: Python Beginners, Students, Kaggle, GitHub\n",
        "\n",
        "---------------------------------------------------------\n",
        "💡 How to Use:\n",
        "1. Run the program.\n",
        "2. Enter student's name and roll number.\n",
        "3. Enter subject names and marks (type 'done' to finish).\n",
        "4. The program will generate and display a full report card.\n",
        "\n",
        "---------------------------------------------------------\n",
        "✨ Key Learning Outcomes:\n",
        "- How to work with loops & conditions.\n",
        "- How to organize code with functions.\n",
        "- How to handle dynamic input using lists.\n",
        "- How to format output for professional presentation.\n",
        "\n",
        "=========================================================\n",
        "\"\"\"\n"
      ]
    },
    {
      "cell_type": "markdown",
      "metadata": {
        "id": "9sABElFBwl1N"
      },
      "source": [
        "# Step 1: Greeting & Introduction\n",
        "\n",
        "***We start with a welcome message so the user knows what the program does.***"
      ]
    },
    {
      "cell_type": "code",
      "execution_count": 21,
      "metadata": {
        "colab": {
          "base_uri": "https://localhost:8080/"
        },
        "id": "1Iinw6aOw_Cy",
        "outputId": "bab0614e-d48b-4a6b-b12c-79257d9f649c"
      },
      "outputs": [
        {
          "name": "stdout",
          "output_type": "stream",
          "text": [
            "==== Welcome to student Report Card System ===\n"
          ]
        }
      ],
      "source": [
        "print(\"==== Welcome to student Report Card System ===\")"
      ]
    },
    {
      "cell_type": "markdown",
      "metadata": {
        "id": "N7vIbugYydZ1"
      },
      "source": [
        "**Concept used: print() function for output.**"
      ]
    },
    {
      "cell_type": "markdown",
      "metadata": {
        "id": "RXkrpuaBx4Zd"
      },
      "source": [
        "# Step 2: Taking Basic Student Information\n",
        "\n",
        "***We need to know the student's name and Roll number.***"
      ]
    },
    {
      "cell_type": "code",
      "execution_count": null,
      "metadata": {
        "id": "Kfsn53YHxFvz"
      },
      "outputs": [],
      "source": [
        "name = input (\"Enter Student Name: \")\n",
        "roll_no = input (\"Enter Roll Number: \")"
      ]
    },
    {
      "cell_type": "markdown",
      "metadata": {
        "id": "CRcSI_bFysTZ"
      },
      "source": [
        "**Concept Used**\n",
        "\n",
        "\n",
        "*   input() for taking user input.\n",
        "*   Variables name and roll_no store the data.\n",
        "\n"
      ]
    },
    {
      "cell_type": "markdown",
      "metadata": {
        "id": "12SXprq1zIOj"
      },
      "source": [
        "# Step 3: Adding Subjects & Marks Using While Loop\n",
        "***We don't know how many subjects a student has.\n",
        "So, we use a while loop to repeatedly ask for subject names and marks until the user types \"done\".***"
      ]
    },
    {
      "cell_type": "code",
      "execution_count": null,
      "metadata": {
        "id": "Xv8k3vxPxyxr"
      },
      "outputs": [],
      "source": [
        "subjects=[]\n",
        "marks=[]\n",
        "\n",
        "while True:\n",
        "  subject = input(\"Enter subject name (or type 'done' to finish): \")\n",
        "  if subject.lower() == \"done\":\n",
        "    break\n",
        "  score_input = input(f\"Enter marks for {subject}: \")\n",
        "  if score_input.lower() == \"done\": # Added this check\n",
        "      break\n",
        "  score = int(score_input) # Convert to int only if not \"done\"\n",
        "  subjects.append(subject)\n",
        "  marks.append(score)"
      ]
    },
    {
      "cell_type": "markdown",
      "metadata": {
        "id": "bsUKE3iR28Cj"
      },
      "source": [
        "**Concept Used**\n",
        "\n",
        "\n",
        "*   While Loop : runs until \"done is typed.\n",
        "*   List : subjects and marks store multiple values.\n",
        "*   Appending values with .append()\n",
        "\n"
      ]
    },
    {
      "cell_type": "markdown",
      "metadata": {
        "id": "D9heH5t-3ujm"
      },
      "source": [
        "# Step 4: Creating a Function for Grade Calculation\n",
        "***We create a function that decides grade based on average marks.***"
      ]
    },
    {
      "cell_type": "code",
      "execution_count": null,
      "metadata": {
        "id": "JYeckvP_1beX"
      },
      "outputs": [],
      "source": [
        "def calculate_grade(average):\n",
        "  if average >= 90:\n",
        "    return \"A+\"\n",
        "  elif average >= 80:\n",
        "    return \"A\"\n",
        "  elif average >= 70:\n",
        "    return \"B\"\n",
        "  elif average >= 60:\n",
        "    return \"C\"\n",
        "  elif average >= 50:\n",
        "    return \"D\"\n",
        "  elif average >= 40:\n",
        "    return \"E\"\n",
        "  else:\n",
        "    return \"Fail\""
      ]
    },
    {
      "cell_type": "markdown",
      "metadata": {
        "id": "BDwz9Wmd6d8O"
      },
      "source": [
        "**Concept used**\n",
        "\n",
        "\n",
        "*   Functions (def)\n",
        "*   Conditional Statement (if-elif-else)\n",
        "\n"
      ]
    },
    {
      "cell_type": "markdown",
      "metadata": {
        "id": "Ol-w6t5e6s6C"
      },
      "source": [
        "# Steps 5: Calculating Total, Average & Grade\n",
        "***Now we process the marks to gtet results.***"
      ]
    },
    {
      "cell_type": "code",
      "execution_count": null,
      "metadata": {
        "id": "FmyH6fH51J5K"
      },
      "outputs": [],
      "source": [
        "total= sum(marks)\n",
        "\n",
        "# Add a check to see if the marks list is empty before calculating the average.\n",
        "if len(marks) > 0:\n",
        "    average = total / len(marks)\n",
        "else:\n",
        "    average = 0\n",
        "\n",
        "grade = calculate_grade(average)"
      ]
    },
    {
      "cell_type": "markdown",
      "metadata": {
        "id": "YvirMJNH-Dfc"
      },
      "source": [
        "**Concept used:**\n",
        "\n",
        "\n",
        "*   sum() function to add marks.\n",
        "\n",
        "*   Division to calculate average.\n",
        "*   Function call calculate_grade(average).\n",
        "\n"
      ]
    },
    {
      "cell_type": "markdown",
      "metadata": {
        "id": "f7c8iTPg-xNK"
      },
      "source": [
        "# Step 6: Displaying the Report Card\n",
        "**Finally, we show everything in a neat format.**"
      ]
    },
    {
      "cell_type": "code",
      "execution_count": null,
      "metadata": {
        "id": "kQOq6H2-7Bi5"
      },
      "outputs": [],
      "source": [
        "print(\"\\n==== Report Card ====\")\n",
        "print(f\"Name: {name}\")\n",
        "print(f\"Roll Number: {roll_no}\")\n",
        "print(\"Subjects and Marks:\")\n",
        "for i in range(len(subjects)):\n",
        "  print(f\"  {subjects[i]}: {marks[i]}\")\n",
        "print(f\"Total Marks: {total}\")\n",
        "print(f\" Average: {average:.2f}\")\n",
        "print(f\" Grade: {grade}\")"
      ]
    },
    {
      "cell_type": "markdown",
      "metadata": {
        "id": "_yOzixMXDL0c"
      },
      "source": [
        "**Concept Used:**\n",
        "\n",
        "\n",
        "*   Loop: (for) to print all subjects.\n",
        "*   f-string: for formatted printing.\n",
        "\n",
        "\n",
        "*   : .2f: rounds average to 2 decimal places.\n",
        "\n",
        "\n",
        "\n"
      ]
    },
    {
      "cell_type": "markdown",
      "metadata": {
        "id": "YsgqSjrAEJmd"
      },
      "source": [
        "#Final Output Example\n",
        "===== Welcome to Student Report Card System =====\n",
        "\n",
        "Enter Student Name: Ali\n",
        "\n",
        "Enter Roll Number: 101\n",
        "\n",
        "Enter subject name (or type 'done' to finish): Math\n",
        "\n",
        "Enter marks for Math: 90\n",
        "\n",
        "Enter subject name (or type 'done' to finish): English\n",
        "\n",
        "Enter marks for English: 80\n",
        "\n",
        "Enter subject name (or type 'done' to finish): Science\n",
        "\n",
        "Enter marks for Science: 85\n",
        "\n",
        "Enter subject name (or type 'done' to finish): done\n",
        "\n",
        "===== Report Card =====\n",
        "Name: Ali\n",
        "Roll No: 101\n",
        "Subjects and Marks:\n",
        "  Math: 90\n",
        "  English: 80\n",
        "  Science: 85\n",
        "Total Marks: 255\n",
        "Average: 85.00\n",
        "Grade: A\n"
      ]
    }
  ],
  "metadata": {
    "colab": {
      "provenance": []
    },
    "kernelspec": {
      "display_name": "Python 3",
      "name": "python3"
    },
    "language_info": {
      "name": "python"
    }
  },
  "nbformat": 4,
  "nbformat_minor": 0
}
